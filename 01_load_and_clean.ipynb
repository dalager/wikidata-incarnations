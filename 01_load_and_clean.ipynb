{
 "cells": [
  {
   "cell_type": "code",
   "execution_count": 2,
   "metadata": {},
   "outputs": [],
   "source": [
    "import pandas as pd\n",
    "import numpy as np\n",
    "import matplotlib.pyplot as plt\n",
    "from datetime import datetime\n",
    "import jdcal"
   ]
  },
  {
   "cell_type": "markdown",
   "metadata": {},
   "source": [
    "## Helper functions"
   ]
  },
  {
   "cell_type": "code",
   "execution_count": 3,
   "metadata": {},
   "outputs": [],
   "source": [
    "def parse_date_jdcal(date_str):\n",
    "    \"\"\"\n",
    "    Parse a date string in the format 'YYYY-MM-DD' or 'YYYY-MM' or 'YYYY' into a Julian Date.\n",
    "    \"\"\"\n",
    "    # Check if the date is negative (BCE)\n",
    "    negative_year = date_str.startswith('-')\n",
    "    date_str_clean = date_str.lstrip('+-').rstrip('Z')\n",
    "    date_part = date_str_clean.split('T')[0]\n",
    "\n",
    "    # Handle dates with missing month or day\n",
    "    parts = date_part.split('-')\n",
    "    year = int(parts[0]) if len(parts) > 0 and parts[0] else 0\n",
    "    month = int(parts[1]) if len(parts) > 1 and parts[1] else 1\n",
    "    day = int(parts[2]) if len(parts) > 2 and parts[2] else 1\n",
    "\n",
    "    # Adjust the year for BCE dates\n",
    "    if negative_year:\n",
    "        year = -year\n",
    "\n",
    "    try:\n",
    "        # Convert to Julian Date\n",
    "        jd = sum(jdcal.gcal2jd(year, month, day))\n",
    "        return jd\n",
    "    except ValueError as e:\n",
    "        print(f\"Error converting date '{date_str}': {e}\")\n",
    "        return None\n",
    "\n",
    "def calculate_age_in_years(row):\n",
    "    if row['birthdate_jd'] is None or row['deathdate_jd'] is None:\n",
    "        return None\n",
    "    return (row['deathdate_jd'] - row['birthdate_jd']) / 365.2425\n"
   ]
  },
  {
   "cell_type": "markdown",
   "metadata": {},
   "source": [
    "## Load data"
   ]
  },
  {
   "cell_type": "code",
   "execution_count": 4,
   "metadata": {},
   "outputs": [
    {
     "name": "stdout",
     "output_type": "stream",
     "text": [
      "2953301\n"
     ]
    }
   ],
   "source": [
    "# Load the data, 2.953.301 rows in 14s\n",
    "data = pd.read_csv('born_and_died_slim.csv')\n",
    "# rowcount\n",
    "print(data.shape[0])"
   ]
  },
  {
   "cell_type": "markdown",
   "metadata": {},
   "source": [
    "## Add age column and remove outliers"
   ]
  },
  {
   "cell_type": "code",
   "execution_count": 5,
   "metadata": {},
   "outputs": [],
   "source": [
    "# remove rows with missing dates, 1m 6s\n",
    "data = data.dropna(subset=['P569', 'P570'])\n",
    "# convert P569 and P570 to datetime with parse_date function\n",
    "data['birthdate_jd'] = data['P569'].apply(parse_date_jdcal)\n",
    "data['deathdate_jd'] = data['P570'].apply(parse_date_jdcal)\n",
    "\n",
    "# create age column\n",
    "data['age'] = data.apply(calculate_age_in_years, axis=1)\n",
    "\n",
    "# Identify outliers\n",
    "age_outliers = data[(data['age'] <= 0) | (data['age'] >= 120)]\n",
    "\n",
    "# Save outliers to a CSV file\n",
    "age_outliers.to_csv('age_outliers.csv', index=False)\n",
    "\n",
    "# remove outliers\n",
    "data = data[data['age'] > 0]\n",
    "data = data[data['age'] < 120]\n",
    "\n",
    "# save data to a new csv file\n",
    "data.to_csv('born_and_died_cleaned.csv', index=False)"
   ]
  },
  {
   "cell_type": "markdown",
   "metadata": {},
   "source": [
    "## Age distribution"
   ]
  },
  {
   "cell_type": "code",
   "execution_count": 6,
   "metadata": {},
   "outputs": [
    {
     "name": "stdout",
     "output_type": "stream",
     "text": [
      "2903180\n"
     ]
    },
    {
     "data": {
      "image/png": "[encoded data removed]",
      "text/plain": [
       "<Figure size 640x480 with 1 Axes>"
      ]
     },
     "metadata": {},
     "output_type": "display_data"
    }
   ],
   "source": [
    "# cleanup done\n",
    "print(data.shape[0])\n",
    "\n",
    "# plot histogram\n",
    "plt.hist(data['age'], bins=100)\n",
    "plt.xlabel('Age')\n",
    "plt.ylabel('Frequency')\n",
    "plt.title('Histogram of ages of people at death')\n",
    "plt.show()\n"
   ]
  }
 ],
 "metadata": {
  "kernelspec": {
   "display_name": "venv",
   "language": "python",
   "name": "python3"
  },
  "language_info": {
   "codemirror_mode": {
    "name": "ipython",
    "version": 3
   },
   "file_extension": ".py",
   "mimetype": "text/x-python",
   "name": "python",
   "nbconvert_exporter": "python",
   "pygments_lexer": "ipython3",
   "version": "3.13.1"
  }
 },
 "nbformat": 4,
 "nbformat_minor": 2
}
